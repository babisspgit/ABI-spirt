{
 "cells": [
  {
   "cell_type": "code",
   "execution_count": 17,
   "id": "0719f5cb",
   "metadata": {},
   "outputs": [],
   "source": [
    "import pandas as pd\n",
    "import numpy as np\n",
    "import os\n",
    "import matplotlib.pyplot as plt\n",
    "import seaborn as sns\n",
    "import sklearn\n",
    "from sklearn.cluster import KMeans\n",
    "from sklearn.model_selection import train_test_split\n",
    "from sklearn.preprocessing import StandardScaler, OneHotEncoder, LabelEncoder\n",
    "import polars as pl\n"
   ]
  },
  {
   "cell_type": "markdown",
   "id": "a40e200e",
   "metadata": {},
   "source": [
    "## Loading the dataset"
   ]
  },
  {
   "cell_type": "code",
   "execution_count": 6,
   "id": "5ed39c4c",
   "metadata": {},
   "outputs": [
    {
     "name": "stdout",
     "output_type": "stream",
     "text": [
      "16\n"
     ]
    }
   ],
   "source": [
    "df = pd.read_csv(\"Trips_2018.csv\")\n",
    "\n",
    "#count cpu cores\n",
    "cores = os.cpu_count()\n",
    "print(cores)"
   ]
  },
  {
   "cell_type": "code",
   "execution_count": 7,
   "id": "6edeec89",
   "metadata": {},
   "outputs": [
    {
     "data": {
      "text/html": [
       "<div>\n",
       "<style scoped>\n",
       "    .dataframe tbody tr th:only-of-type {\n",
       "        vertical-align: middle;\n",
       "    }\n",
       "\n",
       "    .dataframe tbody tr th {\n",
       "        vertical-align: top;\n",
       "    }\n",
       "\n",
       "    .dataframe thead th {\n",
       "        text-align: right;\n",
       "    }\n",
       "</style>\n",
       "<table border=\"1\" class=\"dataframe\">\n",
       "  <thead>\n",
       "    <tr style=\"text-align: right;\">\n",
       "      <th></th>\n",
       "      <th>Unnamed: 0</th>\n",
       "      <th>tripduration</th>\n",
       "      <th>starttime</th>\n",
       "      <th>stoptime</th>\n",
       "      <th>start_station_id</th>\n",
       "      <th>start_station_latitude</th>\n",
       "      <th>start_station_longitude</th>\n",
       "      <th>end_station_id</th>\n",
       "      <th>end_station_latitude</th>\n",
       "      <th>end_station_longitude</th>\n",
       "      <th>bikeid</th>\n",
       "      <th>usertype</th>\n",
       "      <th>birth_year</th>\n",
       "      <th>gender</th>\n",
       "    </tr>\n",
       "  </thead>\n",
       "  <tbody>\n",
       "    <tr>\n",
       "      <th>0</th>\n",
       "      <td>0</td>\n",
       "      <td>970</td>\n",
       "      <td>2018-01-01 13:50:57.4340</td>\n",
       "      <td>2018-01-01 14:07:08.1860</td>\n",
       "      <td>72.0</td>\n",
       "      <td>40.767272</td>\n",
       "      <td>-73.993929</td>\n",
       "      <td>505.0</td>\n",
       "      <td>40.749013</td>\n",
       "      <td>-73.988484</td>\n",
       "      <td>31956</td>\n",
       "      <td>Subscriber</td>\n",
       "      <td>1992</td>\n",
       "      <td>1</td>\n",
       "    </tr>\n",
       "    <tr>\n",
       "      <th>1</th>\n",
       "      <td>1</td>\n",
       "      <td>723</td>\n",
       "      <td>2018-01-01 15:33:30.1820</td>\n",
       "      <td>2018-01-01 15:45:33.3410</td>\n",
       "      <td>72.0</td>\n",
       "      <td>40.767272</td>\n",
       "      <td>-73.993929</td>\n",
       "      <td>3255.0</td>\n",
       "      <td>40.750585</td>\n",
       "      <td>-73.994685</td>\n",
       "      <td>32536</td>\n",
       "      <td>Subscriber</td>\n",
       "      <td>1969</td>\n",
       "      <td>1</td>\n",
       "    </tr>\n",
       "    <tr>\n",
       "      <th>2</th>\n",
       "      <td>2</td>\n",
       "      <td>496</td>\n",
       "      <td>2018-01-01 15:39:18.3370</td>\n",
       "      <td>2018-01-01 15:47:35.1720</td>\n",
       "      <td>72.0</td>\n",
       "      <td>40.767272</td>\n",
       "      <td>-73.993929</td>\n",
       "      <td>525.0</td>\n",
       "      <td>40.755942</td>\n",
       "      <td>-74.002116</td>\n",
       "      <td>16069</td>\n",
       "      <td>Subscriber</td>\n",
       "      <td>1956</td>\n",
       "      <td>1</td>\n",
       "    </tr>\n",
       "    <tr>\n",
       "      <th>3</th>\n",
       "      <td>3</td>\n",
       "      <td>306</td>\n",
       "      <td>2018-01-01 15:40:13.3720</td>\n",
       "      <td>2018-01-01 15:45:20.1910</td>\n",
       "      <td>72.0</td>\n",
       "      <td>40.767272</td>\n",
       "      <td>-73.993929</td>\n",
       "      <td>447.0</td>\n",
       "      <td>40.763707</td>\n",
       "      <td>-73.985162</td>\n",
       "      <td>31781</td>\n",
       "      <td>Subscriber</td>\n",
       "      <td>1974</td>\n",
       "      <td>1</td>\n",
       "    </tr>\n",
       "    <tr>\n",
       "      <th>4</th>\n",
       "      <td>4</td>\n",
       "      <td>306</td>\n",
       "      <td>2018-01-01 18:14:51.5680</td>\n",
       "      <td>2018-01-01 18:19:57.6420</td>\n",
       "      <td>72.0</td>\n",
       "      <td>40.767272</td>\n",
       "      <td>-73.993929</td>\n",
       "      <td>3356.0</td>\n",
       "      <td>40.774667</td>\n",
       "      <td>-73.984706</td>\n",
       "      <td>30319</td>\n",
       "      <td>Subscriber</td>\n",
       "      <td>1992</td>\n",
       "      <td>1</td>\n",
       "    </tr>\n",
       "  </tbody>\n",
       "</table>\n",
       "</div>"
      ],
      "text/plain": [
       "   Unnamed: 0  tripduration                 starttime  \\\n",
       "0           0           970  2018-01-01 13:50:57.4340   \n",
       "1           1           723  2018-01-01 15:33:30.1820   \n",
       "2           2           496  2018-01-01 15:39:18.3370   \n",
       "3           3           306  2018-01-01 15:40:13.3720   \n",
       "4           4           306  2018-01-01 18:14:51.5680   \n",
       "\n",
       "                   stoptime  start_station_id  start_station_latitude  \\\n",
       "0  2018-01-01 14:07:08.1860              72.0               40.767272   \n",
       "1  2018-01-01 15:45:33.3410              72.0               40.767272   \n",
       "2  2018-01-01 15:47:35.1720              72.0               40.767272   \n",
       "3  2018-01-01 15:45:20.1910              72.0               40.767272   \n",
       "4  2018-01-01 18:19:57.6420              72.0               40.767272   \n",
       "\n",
       "   start_station_longitude  end_station_id  end_station_latitude  \\\n",
       "0               -73.993929           505.0             40.749013   \n",
       "1               -73.993929          3255.0             40.750585   \n",
       "2               -73.993929           525.0             40.755942   \n",
       "3               -73.993929           447.0             40.763707   \n",
       "4               -73.993929          3356.0             40.774667   \n",
       "\n",
       "   end_station_longitude  bikeid    usertype  birth_year  gender  \n",
       "0             -73.988484   31956  Subscriber        1992       1  \n",
       "1             -73.994685   32536  Subscriber        1969       1  \n",
       "2             -74.002116   16069  Subscriber        1956       1  \n",
       "3             -73.985162   31781  Subscriber        1974       1  \n",
       "4             -73.984706   30319  Subscriber        1992       1  "
      ]
     },
     "execution_count": 7,
     "metadata": {},
     "output_type": "execute_result"
    }
   ],
   "source": [
    "df.head()"
   ]
  },
  {
   "cell_type": "code",
   "execution_count": 8,
   "id": "8c4e0c11",
   "metadata": {},
   "outputs": [
    {
     "name": "stdout",
     "output_type": "stream",
     "text": [
      "Unnamed: 0                   int64\n",
      "tripduration                 int64\n",
      "starttime                   object\n",
      "stoptime                    object\n",
      "start_station_id           float64\n",
      "start_station_latitude     float64\n",
      "start_station_longitude    float64\n",
      "end_station_id             float64\n",
      "end_station_latitude       float64\n",
      "end_station_longitude      float64\n",
      "bikeid                       int64\n",
      "usertype                    object\n",
      "birth_year                   int64\n",
      "gender                       int64\n",
      "dtype: object\n"
     ]
    }
   ],
   "source": [
    "print(df.dtypes)"
   ]
  },
  {
   "cell_type": "markdown",
   "id": "0a87b043",
   "metadata": {},
   "source": [
    "## Preprocessing"
   ]
  },
  {
   "cell_type": "code",
   "execution_count": 9,
   "id": "317578eb",
   "metadata": {},
   "outputs": [],
   "source": [
    "#df['starttime'] = pd.to_datetime(df['starttime'], errors='coerce')\n",
    "#df['stoptime'] = pd.to_datetime(df['stoptime'], errors='coerce')\n",
    "\n",
    "df['starttime']=pd.to_datetime(df['starttime'], format=\"%Y-%m-%d %H:%M:%S.%f\")\n",
    "df['stoptime']=pd.to_datetime(df['stoptime'], format=\"%Y-%m-%d %H:%M:%S.%f\")"
   ]
  },
  {
   "cell_type": "code",
   "execution_count": 10,
   "id": "8731813e",
   "metadata": {},
   "outputs": [
    {
     "name": "stdout",
     "output_type": "stream",
     "text": [
      "Unnamed: 0                          int64\n",
      "tripduration                        int64\n",
      "starttime                  datetime64[ns]\n",
      "stoptime                   datetime64[ns]\n",
      "start_station_id                  float64\n",
      "start_station_latitude            float64\n",
      "start_station_longitude           float64\n",
      "end_station_id                    float64\n",
      "end_station_latitude              float64\n",
      "end_station_longitude             float64\n",
      "bikeid                              int64\n",
      "usertype                           object\n",
      "birth_year                          int64\n",
      "gender                              int64\n",
      "dtype: object\n"
     ]
    }
   ],
   "source": [
    "print(df.dtypes)"
   ]
  },
  {
   "cell_type": "code",
   "execution_count": null,
   "id": "b4ddb5ed",
   "metadata": {},
   "outputs": [],
   "source": [
    "# Encode the 'usertype' column from string to int\n",
    "label_encoder = LabelEncoder()\n",
    "df['usertype'] = label_encoder.fit_transform(df['usertype'])\n",
    "\n",
    "\n",
    "df = df.dropna(subset=['start_station_id', 'end_station_id'])\n",
    "df['start_station_id'] = df['start_station_id'].astype(int)\n",
    "df['end_station_id'] = df['end_station_id'].astype(int)"
   ]
  },
  {
   "cell_type": "code",
   "execution_count": 12,
   "id": "809105e2",
   "metadata": {},
   "outputs": [
    {
     "name": "stdout",
     "output_type": "stream",
     "text": [
      "[1 0 2]\n",
      "[1 0]\n"
     ]
    }
   ],
   "source": [
    "print(df['gender'].unique())\n",
    "print(df['usertype'].unique())"
   ]
  },
  {
   "cell_type": "code",
   "execution_count": 13,
   "id": "5df80e69",
   "metadata": {},
   "outputs": [],
   "source": [
    "# Drop any duplicate row\n",
    "df2 = df.drop_duplicates()"
   ]
  },
  {
   "cell_type": "code",
   "execution_count": 15,
   "id": "8b24d172",
   "metadata": {},
   "outputs": [
    {
     "name": "stdout",
     "output_type": "stream",
     "text": [
      "df2: 17545842 df: 17545842\n"
     ]
    }
   ],
   "source": [
    "print('df2:',df2.shape[0],'df:',df.shape[0])"
   ]
  },
  {
   "cell_type": "code",
   "execution_count": null,
   "id": "e19b79ff",
   "metadata": {},
   "outputs": [],
   "source": [
    "\n",
    "##!setx LOKY_Min_CPU_COUNT 6\n",
    "#\n",
    "#distortions = []\n",
    "#K = range(1, 25) \n",
    "#\n",
    "#for k in K:\n",
    "#    kmeanModel = KMeans(n_clusters=k)\n",
    "#    kmeanModel.fit(df[['start_station_latitude', 'start_station_longitude']])\n",
    "#    distortions.append(kmeanModel.inertia_)\n",
    "#\n",
    "## Plotting the elbow curve\n",
    "#plt.figure(figsize=(16, 8))\n",
    "#plt.plot(K, distortions, 'bx-')\n",
    "#plt.xlabel('k')\n",
    "#plt.ylabel('Distortion')\n",
    "#plt.title('The Elbow Method showing the optimal k')\n",
    "#plt.show()\n"
   ]
  },
  {
   "cell_type": "code",
   "execution_count": null,
   "id": "b2ada8e7",
   "metadata": {},
   "outputs": [],
   "source": [
    "#from yellowbrick.cluster import KElbowVisualizer\n",
    "#from sklearn.cluster import KMeans\n",
    "#\n",
    "## Generate synthetic dataset with 8 random clusters\n",
    "#X =df[['start_station_latitude', 'start_station_longitude']]\n",
    "#\n",
    "## Instantiate the clustering model and visualizer\n",
    "#model = KMeans()\n",
    "#visualizer = KElbowVisualizer(model, k=(1,25))\n",
    "#\n",
    "#visualizer.fit(X)        # Fit the data to the visualizer\n",
    "#visualizer.show()        # Finalize and render the figure"
   ]
  },
  {
   "cell_type": "code",
   "execution_count": 26,
   "id": "6362864f",
   "metadata": {},
   "outputs": [
    {
     "name": "stderr",
     "output_type": "stream",
     "text": [
      "c:\\Users\\spbsp\\anaconda3\\envs\\ddpm\\lib\\site-packages\\sklearn\\cluster\\_kmeans.py:1412: FutureWarning: The default value of `n_init` will change from 10 to 'auto' in 1.4. Set the value of `n_init` explicitly to suppress the warning\n",
      "  super()._check_params_vs_input(X, default_n_init=10)\n"
     ]
    },
    {
     "data": {
      "image/png": "[encoded data removed]",
      "text/plain": [
       "<Figure size 640x480 with 1 Axes>"
      ]
     },
     "metadata": {},
     "output_type": "display_data"
    }
   ],
   "source": [
    "## Create a dataframe with the start station id and the coordinates\n",
    "stations = df2[['start_station_id', 'start_station_latitude', 'start_station_longitude']].drop_duplicates()\n",
    "\n",
    "## Apply KMeans algorithm for 21 clusters\n",
    "kmeans = KMeans(n_clusters=21, random_state=0).fit(stations[['start_station_latitude', 'start_station_longitude']])\n",
    "stations['cluster'] = kmeans.labels_\n",
    "\n",
    "## Plot the clusters\n",
    "plt.scatter(stations['start_station_longitude'], stations['start_station_latitude'], c=stations['cluster'], cmap='rainbow')\n",
    "plt.xlabel('Longitude')\n",
    "plt.ylabel('Latitude')\n",
    "plt.title('Clusters of Stations')\n",
    "plt.show()"
   ]
  },
  {
   "cell_type": "code",
   "execution_count": 27,
   "id": "b715a249",
   "metadata": {},
   "outputs": [
    {
     "data": {
      "text/plain": [
       "(819, 4)"
      ]
     },
     "execution_count": 27,
     "metadata": {},
     "output_type": "execute_result"
    }
   ],
   "source": [
    "stations.shape"
   ]
  },
  {
   "cell_type": "code",
   "execution_count": 28,
   "id": "1914cd80",
   "metadata": {},
   "outputs": [
    {
     "data": {
      "image/png": "[encoded data removed]",
      "text/plain": [
       "<Figure size 1200x700 with 1 Axes>"
      ]
     },
     "metadata": {},
     "output_type": "display_data"
    }
   ],
   "source": [
    "## Plot the stations in each cluster\n",
    "cluster_counts = stations.groupby('cluster').size()\n",
    "\n",
    "ax = cluster_counts.plot(kind='bar', figsize=(12,7))\n",
    "plt.xlabel('Cluster ID')\n",
    "plt.ylabel('Number of stations')\n",
    "plt.title('Number of stations in Each Cluster')\n",
    "\n",
    "for p in ax.patches:\n",
    "    ax.annotate(str(p.get_height()), (p.get_x() * 1.005, p.get_height() * 1.005))\n",
    "\n",
    "plt.show()\n"
   ]
  },
  {
   "cell_type": "code",
   "execution_count": 29,
   "id": "0ee865fb",
   "metadata": {},
   "outputs": [
    {
     "name": "stdout",
     "output_type": "stream",
     "text": [
      "        start_station_id  start_station_latitude  start_station_longitude  \\\n",
      "676612              3488               45.506364               -73.569463   \n",
      "714485              3650               45.506264               -73.568906   \n",
      "\n",
      "        cluster  \n",
      "676612        1  \n",
      "714485        1  \n"
     ]
    }
   ],
   "source": [
    "cluster_1_stations = stations[stations['cluster'] == 1]\n",
    "print(cluster_1_stations)"
   ]
  },
  {
   "cell_type": "markdown",
   "id": "e5525883",
   "metadata": {},
   "source": [
    "These 2 stations are located in Montreal, Canada. Therefore, they will be discarded."
   ]
  },
  {
   "cell_type": "code",
   "execution_count": 30,
   "id": "25c2b025",
   "metadata": {},
   "outputs": [],
   "source": [
    "## Drop the rows with cluster 1\n",
    "stations = stations[stations['cluster'] != 1]"
   ]
  },
  {
   "cell_type": "code",
   "execution_count": 31,
   "id": "b67fa53d",
   "metadata": {},
   "outputs": [
    {
     "data": {
      "text/html": [
       "<div>\n",
       "<style scoped>\n",
       "    .dataframe tbody tr th:only-of-type {\n",
       "        vertical-align: middle;\n",
       "    }\n",
       "\n",
       "    .dataframe tbody tr th {\n",
       "        vertical-align: top;\n",
       "    }\n",
       "\n",
       "    .dataframe thead th {\n",
       "        text-align: right;\n",
       "    }\n",
       "</style>\n",
       "<table border=\"1\" class=\"dataframe\">\n",
       "  <thead>\n",
       "    <tr style=\"text-align: right;\">\n",
       "      <th></th>\n",
       "      <th>start_station_id</th>\n",
       "      <th>start_station_latitude</th>\n",
       "      <th>start_station_longitude</th>\n",
       "      <th>cluster</th>\n",
       "    </tr>\n",
       "  </thead>\n",
       "  <tbody>\n",
       "    <tr>\n",
       "      <th>0</th>\n",
       "      <td>72</td>\n",
       "      <td>40.767272</td>\n",
       "      <td>-73.993929</td>\n",
       "      <td>11</td>\n",
       "    </tr>\n",
       "    <tr>\n",
       "      <th>1324</th>\n",
       "      <td>79</td>\n",
       "      <td>40.719116</td>\n",
       "      <td>-74.006667</td>\n",
       "      <td>5</td>\n",
       "    </tr>\n",
       "    <tr>\n",
       "      <th>2430</th>\n",
       "      <td>82</td>\n",
       "      <td>40.711174</td>\n",
       "      <td>-74.000165</td>\n",
       "      <td>5</td>\n",
       "    </tr>\n",
       "    <tr>\n",
       "      <th>2866</th>\n",
       "      <td>83</td>\n",
       "      <td>40.683826</td>\n",
       "      <td>-73.976323</td>\n",
       "      <td>2</td>\n",
       "    </tr>\n",
       "    <tr>\n",
       "      <th>3551</th>\n",
       "      <td>119</td>\n",
       "      <td>40.696089</td>\n",
       "      <td>-73.978034</td>\n",
       "      <td>2</td>\n",
       "    </tr>\n",
       "  </tbody>\n",
       "</table>\n",
       "</div>"
      ],
      "text/plain": [
       "      start_station_id  start_station_latitude  start_station_longitude  \\\n",
       "0                   72               40.767272               -73.993929   \n",
       "1324                79               40.719116               -74.006667   \n",
       "2430                82               40.711174               -74.000165   \n",
       "2866                83               40.683826               -73.976323   \n",
       "3551               119               40.696089               -73.978034   \n",
       "\n",
       "      cluster  \n",
       "0          11  \n",
       "1324        5  \n",
       "2430        5  \n",
       "2866        2  \n",
       "3551        2  "
      ]
     },
     "execution_count": 31,
     "metadata": {},
     "output_type": "execute_result"
    }
   ],
   "source": [
    "stations.head()"
   ]
  },
  {
   "cell_type": "code",
   "execution_count": 32,
   "id": "b081cd84",
   "metadata": {},
   "outputs": [
    {
     "data": {
      "text/plain": [
       "array([11,  5,  2, 20, 17, 10, 12, 16,  0, 14, 19,  4,  8, 18,  3,  9,  7,\n",
       "       15, 13,  6])"
      ]
     },
     "execution_count": 32,
     "metadata": {},
     "output_type": "execute_result"
    }
   ],
   "source": [
    "## Check the unique clusters\n",
    "stations['cluster'].unique()"
   ]
  },
  {
   "cell_type": "code",
   "execution_count": 33,
   "id": "ee5aa7f8",
   "metadata": {},
   "outputs": [
    {
     "data": {
      "image/png": "[encoded data removed]",
      "text/plain": [
       "<Figure size 640x480 with 1 Axes>"
      ]
     },
     "metadata": {},
     "output_type": "display_data"
    }
   ],
   "source": [
    "plt.scatter(stations['start_station_longitude'], stations['start_station_latitude'], c=stations['cluster'], cmap='rainbow')\n",
    "plt.xlabel('Longitude')\n",
    "plt.ylabel('Latitude')\n",
    "plt.title('Clusters of Stations')\n",
    "plt.show()"
   ]
  },
  {
   "cell_type": "code",
   "execution_count": 34,
   "id": "b11154ed",
   "metadata": {},
   "outputs": [
    {
     "data": {
      "text/html": [
       "<div>\n",
       "<style scoped>\n",
       "    .dataframe tbody tr th:only-of-type {\n",
       "        vertical-align: middle;\n",
       "    }\n",
       "\n",
       "    .dataframe tbody tr th {\n",
       "        vertical-align: top;\n",
       "    }\n",
       "\n",
       "    .dataframe thead th {\n",
       "        text-align: right;\n",
       "    }\n",
       "</style>\n",
       "<table border=\"1\" class=\"dataframe\">\n",
       "  <thead>\n",
       "    <tr style=\"text-align: right;\">\n",
       "      <th></th>\n",
       "      <th>Unnamed: 0</th>\n",
       "      <th>tripduration</th>\n",
       "      <th>starttime</th>\n",
       "      <th>stoptime</th>\n",
       "      <th>start_station_id</th>\n",
       "      <th>start_station_latitude</th>\n",
       "      <th>start_station_longitude</th>\n",
       "      <th>end_station_id</th>\n",
       "      <th>end_station_latitude</th>\n",
       "      <th>end_station_longitude</th>\n",
       "      <th>bikeid</th>\n",
       "      <th>usertype</th>\n",
       "      <th>birth_year</th>\n",
       "      <th>gender</th>\n",
       "      <th>cluster</th>\n",
       "    </tr>\n",
       "  </thead>\n",
       "  <tbody>\n",
       "    <tr>\n",
       "      <th>0</th>\n",
       "      <td>0</td>\n",
       "      <td>970</td>\n",
       "      <td>2018-01-01 13:50:57.434</td>\n",
       "      <td>2018-01-01 14:07:08.186</td>\n",
       "      <td>72</td>\n",
       "      <td>40.767272</td>\n",
       "      <td>-73.993929</td>\n",
       "      <td>505</td>\n",
       "      <td>40.749013</td>\n",
       "      <td>-73.988484</td>\n",
       "      <td>31956</td>\n",
       "      <td>1</td>\n",
       "      <td>1992</td>\n",
       "      <td>1</td>\n",
       "      <td>11.0</td>\n",
       "    </tr>\n",
       "    <tr>\n",
       "      <th>1</th>\n",
       "      <td>1</td>\n",
       "      <td>723</td>\n",
       "      <td>2018-01-01 15:33:30.182</td>\n",
       "      <td>2018-01-01 15:45:33.341</td>\n",
       "      <td>72</td>\n",
       "      <td>40.767272</td>\n",
       "      <td>-73.993929</td>\n",
       "      <td>3255</td>\n",
       "      <td>40.750585</td>\n",
       "      <td>-73.994685</td>\n",
       "      <td>32536</td>\n",
       "      <td>1</td>\n",
       "      <td>1969</td>\n",
       "      <td>1</td>\n",
       "      <td>11.0</td>\n",
       "    </tr>\n",
       "    <tr>\n",
       "      <th>2</th>\n",
       "      <td>2</td>\n",
       "      <td>496</td>\n",
       "      <td>2018-01-01 15:39:18.337</td>\n",
       "      <td>2018-01-01 15:47:35.172</td>\n",
       "      <td>72</td>\n",
       "      <td>40.767272</td>\n",
       "      <td>-73.993929</td>\n",
       "      <td>525</td>\n",
       "      <td>40.755942</td>\n",
       "      <td>-74.002116</td>\n",
       "      <td>16069</td>\n",
       "      <td>1</td>\n",
       "      <td>1956</td>\n",
       "      <td>1</td>\n",
       "      <td>11.0</td>\n",
       "    </tr>\n",
       "    <tr>\n",
       "      <th>3</th>\n",
       "      <td>3</td>\n",
       "      <td>306</td>\n",
       "      <td>2018-01-01 15:40:13.372</td>\n",
       "      <td>2018-01-01 15:45:20.191</td>\n",
       "      <td>72</td>\n",
       "      <td>40.767272</td>\n",
       "      <td>-73.993929</td>\n",
       "      <td>447</td>\n",
       "      <td>40.763707</td>\n",
       "      <td>-73.985162</td>\n",
       "      <td>31781</td>\n",
       "      <td>1</td>\n",
       "      <td>1974</td>\n",
       "      <td>1</td>\n",
       "      <td>11.0</td>\n",
       "    </tr>\n",
       "    <tr>\n",
       "      <th>4</th>\n",
       "      <td>4</td>\n",
       "      <td>306</td>\n",
       "      <td>2018-01-01 18:14:51.568</td>\n",
       "      <td>2018-01-01 18:19:57.642</td>\n",
       "      <td>72</td>\n",
       "      <td>40.767272</td>\n",
       "      <td>-73.993929</td>\n",
       "      <td>3356</td>\n",
       "      <td>40.774667</td>\n",
       "      <td>-73.984706</td>\n",
       "      <td>30319</td>\n",
       "      <td>1</td>\n",
       "      <td>1992</td>\n",
       "      <td>1</td>\n",
       "      <td>11.0</td>\n",
       "    </tr>\n",
       "  </tbody>\n",
       "</table>\n",
       "</div>"
      ],
      "text/plain": [
       "   Unnamed: 0  tripduration               starttime                stoptime  \\\n",
       "0           0           970 2018-01-01 13:50:57.434 2018-01-01 14:07:08.186   \n",
       "1           1           723 2018-01-01 15:33:30.182 2018-01-01 15:45:33.341   \n",
       "2           2           496 2018-01-01 15:39:18.337 2018-01-01 15:47:35.172   \n",
       "3           3           306 2018-01-01 15:40:13.372 2018-01-01 15:45:20.191   \n",
       "4           4           306 2018-01-01 18:14:51.568 2018-01-01 18:19:57.642   \n",
       "\n",
       "   start_station_id  start_station_latitude  start_station_longitude  \\\n",
       "0                72               40.767272               -73.993929   \n",
       "1                72               40.767272               -73.993929   \n",
       "2                72               40.767272               -73.993929   \n",
       "3                72               40.767272               -73.993929   \n",
       "4                72               40.767272               -73.993929   \n",
       "\n",
       "   end_station_id  end_station_latitude  end_station_longitude  bikeid  \\\n",
       "0             505             40.749013             -73.988484   31956   \n",
       "1            3255             40.750585             -73.994685   32536   \n",
       "2             525             40.755942             -74.002116   16069   \n",
       "3             447             40.763707             -73.985162   31781   \n",
       "4            3356             40.774667             -73.984706   30319   \n",
       "\n",
       "   usertype  birth_year  gender  cluster  \n",
       "0         1        1992       1     11.0  \n",
       "1         1        1969       1     11.0  \n",
       "2         1        1956       1     11.0  \n",
       "3         1        1974       1     11.0  \n",
       "4         1        1992       1     11.0  "
      ]
     },
     "execution_count": 34,
     "metadata": {},
     "output_type": "execute_result"
    }
   ],
   "source": [
    "merged_df = df.merge(stations[['start_station_id', 'cluster']], on='start_station_id', how='left')\n",
    "\n",
    "merged_df.head()"
   ]
  },
  {
   "cell_type": "code",
   "execution_count": 35,
   "id": "cf158812",
   "metadata": {},
   "outputs": [
    {
     "data": {
      "text/plain": [
       "Text(0.5, 1.0, 'Stations Locations')"
      ]
     },
     "execution_count": 35,
     "metadata": {},
     "output_type": "execute_result"
    },
    {
     "data": {
      "image/png": "[encoded data removed]",
      "text/plain": [
       "<Figure size 640x480 with 1 Axes>"
      ]
     },
     "metadata": {},
     "output_type": "display_data"
    }
   ],
   "source": [
    "plt.scatter(merged_df['start_station_latitude'], merged_df['start_station_longitude'], s=5)\n",
    "plt.xlim([40.6, 40.9])\n",
    "plt.ylim([-74.05, -73.85])\n",
    "plt.xlabel('Latitude')\n",
    "plt.ylabel('Longitude')\n",
    "plt.title(\"Stations Locations\")"
   ]
  },
  {
   "cell_type": "code",
   "execution_count": 39,
   "id": "ad070b36",
   "metadata": {},
   "outputs": [
    {
     "name": "stderr",
     "output_type": "stream",
     "text": [
      "C:\\Users\\spbsp\\AppData\\Local\\Temp\\ipykernel_23976\\2249846221.py:2: UserWarning: No data for colormapping provided via 'c'. Parameters 'cmap' will be ignored\n",
      "  plt.scatter(merged_df['start_station_latitude'], merged_df['start_station_longitude'], cmap='rainbow', s=5)\n"
     ]
    },
    {
     "data": {
      "text/plain": [
       "Text(0.5, 1.0, 'Stations Locations')"
      ]
     },
     "execution_count": 39,
     "metadata": {},
     "output_type": "execute_result"
    },
    {
     "data": {
      "image/png": "[encoded data removed]",
      "text/plain": [
       "<Figure size 640x480 with 1 Axes>"
      ]
     },
     "metadata": {},
     "output_type": "display_data"
    }
   ],
   "source": [
    "# Do the same plot but with colors in correspondance to the clusters\n",
    "plt.scatter(merged_df['start_station_latitude'], merged_df['start_station_longitude'], c=merged_df['cluster'], cmap='rainbow', s=5) \n",
    "plt.xlim([40.6, 40.9])\n",
    "plt.ylim([-74.05, -73.85])\n",
    "plt.xlabel('Latitude')\n",
    "plt.ylabel('Longitude')\n",
    "plt.title(\"Stations Locations\")"
   ]
  },
  {
   "cell_type": "code",
   "execution_count": 40,
   "id": "00315809",
   "metadata": {},
   "outputs": [
    {
     "name": "stdout",
     "output_type": "stream",
     "text": [
      "count    1.759132e+07\n",
      "mean     9.887381e+02\n",
      "std      1.887641e+04\n",
      "min      6.100000e+01\n",
      "25%      3.590000e+02\n",
      "50%      6.050000e+02\n",
      "75%      1.061000e+03\n",
      "max      1.951005e+07\n",
      "Name: tripduration, dtype: float64\n"
     ]
    }
   ],
   "source": [
    "df2=merged_df\n",
    "# find min, max, median, mean, std of trip duration\n",
    "print(df2['tripduration'].describe())"
   ]
  },
  {
   "cell_type": "code",
   "execution_count": 61,
   "id": "126a9a73",
   "metadata": {},
   "outputs": [
    {
     "data": {
      "image/png": "[encoded data removed]",
      "text/plain": [
       "<Figure size 1600x800 with 1 Axes>"
      ]
     },
     "metadata": {},
     "output_type": "display_data"
    }
   ],
   "source": [
    "## Plot the distribution of trip durations\n",
    "trip_durations = df2['tripduration']\n",
    "\n",
    "plt.figure(figsize=(16, 8))\n",
    "plt.hist(trip_durations, bins=100, color='skyblue', edgecolor='black')\n",
    "plt.yscale('log')\n",
    "plt.title('Trip Durations Distribution')\n",
    "plt.xlabel('Trip Duration')\n",
    "plt.ylabel('Frequency (Log Scale)')\n",
    "plt.grid(True)\n",
    "plt.show()\n",
    "\n"
   ]
  },
  {
   "cell_type": "code",
   "execution_count": 92,
   "id": "62cd0829",
   "metadata": {},
   "outputs": [
    {
     "name": "stdout",
     "output_type": "stream",
     "text": [
      "trip_durations : 66.0 7579847.566582724\n",
      "Number of points in the 1st percentile: 18486\n",
      "Number of points in the 99th percentile: 18\n"
     ]
    }
   ],
   "source": [
    "#Filtering the data at the 1st percentile will include those trips with durations longer than 99% of the dataset. \n",
    "#Filtering at the 99th percentile will include those trips with durations shorter than 99% of the dataset.\n",
    "\n",
    "# Calculate the 0.1st and 999th percentiles\n",
    "percentile_1 = df2['tripduration'].quantile(0.001)\n",
    "percentile_99 = df2['tripduration'].quantile(0.999999)\n",
    "# i want to print the tripdurations of those who are in the 1st and 99th percentile\n",
    "print('trip_durations :', percentile_1, percentile_99)\n",
    "\n",
    "# Filter data based on percentiles\n",
    "points_within_1_percentile = df2[df2['tripduration'] <= percentile_1]\n",
    "points_within_99_percentile = df2[df2['tripduration'] >= percentile_99]\n",
    "\n",
    "print(f\"Number of points in the 1st percentile: {len(points_within_1_percentile)}\")\n",
    "print(f\"Number of points in the 99th percentile: {len(points_within_99_percentile)}\")\n"
   ]
  },
  {
   "cell_type": "code",
   "execution_count": 94,
   "id": "674c585d",
   "metadata": {},
   "outputs": [
    {
     "name": "stdout",
     "output_type": "stream",
     "text": [
      "0.10000    226.0\n",
      "0.05000    171.0\n",
      "0.02000    124.0\n",
      "0.01000    100.0\n",
      "0.00100     66.0\n",
      "0.00010     61.0\n",
      "0.00001     61.0\n",
      "Name: tripduration, dtype: float64\n",
      "0.90000    1.668000e+03\n",
      "0.95000    2.097000e+03\n",
      "0.98000    2.722000e+03\n",
      "0.99000    3.718000e+03\n",
      "0.99900    2.000997e+04\n",
      "0.99990    3.433650e+05\n",
      "0.99999    2.252608e+06\n",
      "Name: tripduration, dtype: float64\n"
     ]
    }
   ],
   "source": [
    "# find min and 0.1, 0.5, 0.1 quantile of trip duration along with thenumber of points for each one of them\n",
    "print(df2['tripduration'].quantile([.1, .05, .02, .01, .001, .0001, .00001]))\n",
    "# find the 90,95,98,99 percentile of trip duration\n",
    "print(df2['tripduration'].quantile([.90,.95,.98,.99,.999,.9999,.99999]))"
   ]
  },
  {
   "cell_type": "code",
   "execution_count": null,
   "id": "47b91137",
   "metadata": {},
   "outputs": [],
   "source": [
    "# Assuming 'df' is your DataFrame and 'tripduration' is the column you want to filter\n",
    "# Calculate the 1st and 99th percentiles\n",
    "lower_percentile = df2['tripduration'].quantile(0.01)\n",
    "upper_percentile = df2['tripduration'].quantile(0.99)\n",
    "\n",
    "# Filter the DataFrame based on the percentiles\n",
    "#filtered_df = df[(df['tripduration'] >= lower_percentile) & (df['tripduration'] <= upper_percentile)]\n"
   ]
  },
  {
   "cell_type": "code",
   "execution_count": 95,
   "id": "206ff688",
   "metadata": {},
   "outputs": [
    {
     "data": {
      "text/html": [
       "<div>\n",
       "<style scoped>\n",
       "    .dataframe tbody tr th:only-of-type {\n",
       "        vertical-align: middle;\n",
       "    }\n",
       "\n",
       "    .dataframe tbody tr th {\n",
       "        vertical-align: top;\n",
       "    }\n",
       "\n",
       "    .dataframe thead th {\n",
       "        text-align: right;\n",
       "    }\n",
       "</style>\n",
       "<table border=\"1\" class=\"dataframe\">\n",
       "  <thead>\n",
       "    <tr style=\"text-align: right;\">\n",
       "      <th></th>\n",
       "      <th>Unnamed: 0</th>\n",
       "      <th>tripduration</th>\n",
       "      <th>starttime</th>\n",
       "      <th>stoptime</th>\n",
       "      <th>start_station_id</th>\n",
       "      <th>start_station_latitude</th>\n",
       "      <th>start_station_longitude</th>\n",
       "      <th>end_station_id</th>\n",
       "      <th>end_station_latitude</th>\n",
       "      <th>end_station_longitude</th>\n",
       "      <th>bikeid</th>\n",
       "      <th>usertype</th>\n",
       "      <th>birth_year</th>\n",
       "      <th>gender</th>\n",
       "      <th>cluster</th>\n",
       "    </tr>\n",
       "  </thead>\n",
       "  <tbody>\n",
       "    <tr>\n",
       "      <th>0</th>\n",
       "      <td>0</td>\n",
       "      <td>970</td>\n",
       "      <td>2018-01-01 13:50:57.434</td>\n",
       "      <td>2018-01-01 14:07:08.186</td>\n",
       "      <td>72.0</td>\n",
       "      <td>40.767272</td>\n",
       "      <td>-73.993929</td>\n",
       "      <td>505.0</td>\n",
       "      <td>40.749013</td>\n",
       "      <td>-73.988484</td>\n",
       "      <td>31956</td>\n",
       "      <td>1</td>\n",
       "      <td>1992</td>\n",
       "      <td>1</td>\n",
       "      <td>5.0</td>\n",
       "    </tr>\n",
       "    <tr>\n",
       "      <th>1</th>\n",
       "      <td>1</td>\n",
       "      <td>723</td>\n",
       "      <td>2018-01-01 15:33:30.182</td>\n",
       "      <td>2018-01-01 15:45:33.341</td>\n",
       "      <td>72.0</td>\n",
       "      <td>40.767272</td>\n",
       "      <td>-73.993929</td>\n",
       "      <td>3255.0</td>\n",
       "      <td>40.750585</td>\n",
       "      <td>-73.994685</td>\n",
       "      <td>32536</td>\n",
       "      <td>1</td>\n",
       "      <td>1969</td>\n",
       "      <td>1</td>\n",
       "      <td>5.0</td>\n",
       "    </tr>\n",
       "    <tr>\n",
       "      <th>2</th>\n",
       "      <td>2</td>\n",
       "      <td>496</td>\n",
       "      <td>2018-01-01 15:39:18.337</td>\n",
       "      <td>2018-01-01 15:47:35.172</td>\n",
       "      <td>72.0</td>\n",
       "      <td>40.767272</td>\n",
       "      <td>-73.993929</td>\n",
       "      <td>525.0</td>\n",
       "      <td>40.755942</td>\n",
       "      <td>-74.002116</td>\n",
       "      <td>16069</td>\n",
       "      <td>1</td>\n",
       "      <td>1956</td>\n",
       "      <td>1</td>\n",
       "      <td>5.0</td>\n",
       "    </tr>\n",
       "    <tr>\n",
       "      <th>3</th>\n",
       "      <td>3</td>\n",
       "      <td>306</td>\n",
       "      <td>2018-01-01 15:40:13.372</td>\n",
       "      <td>2018-01-01 15:45:20.191</td>\n",
       "      <td>72.0</td>\n",
       "      <td>40.767272</td>\n",
       "      <td>-73.993929</td>\n",
       "      <td>447.0</td>\n",
       "      <td>40.763707</td>\n",
       "      <td>-73.985162</td>\n",
       "      <td>31781</td>\n",
       "      <td>1</td>\n",
       "      <td>1974</td>\n",
       "      <td>1</td>\n",
       "      <td>5.0</td>\n",
       "    </tr>\n",
       "    <tr>\n",
       "      <th>4</th>\n",
       "      <td>4</td>\n",
       "      <td>306</td>\n",
       "      <td>2018-01-01 18:14:51.568</td>\n",
       "      <td>2018-01-01 18:19:57.642</td>\n",
       "      <td>72.0</td>\n",
       "      <td>40.767272</td>\n",
       "      <td>-73.993929</td>\n",
       "      <td>3356.0</td>\n",
       "      <td>40.774667</td>\n",
       "      <td>-73.984706</td>\n",
       "      <td>30319</td>\n",
       "      <td>1</td>\n",
       "      <td>1992</td>\n",
       "      <td>1</td>\n",
       "      <td>5.0</td>\n",
       "    </tr>\n",
       "  </tbody>\n",
       "</table>\n",
       "</div>"
      ],
      "text/plain": [
       "   Unnamed: 0  tripduration               starttime                stoptime  \\\n",
       "0           0           970 2018-01-01 13:50:57.434 2018-01-01 14:07:08.186   \n",
       "1           1           723 2018-01-01 15:33:30.182 2018-01-01 15:45:33.341   \n",
       "2           2           496 2018-01-01 15:39:18.337 2018-01-01 15:47:35.172   \n",
       "3           3           306 2018-01-01 15:40:13.372 2018-01-01 15:45:20.191   \n",
       "4           4           306 2018-01-01 18:14:51.568 2018-01-01 18:19:57.642   \n",
       "\n",
       "   start_station_id  start_station_latitude  start_station_longitude  \\\n",
       "0              72.0               40.767272               -73.993929   \n",
       "1              72.0               40.767272               -73.993929   \n",
       "2              72.0               40.767272               -73.993929   \n",
       "3              72.0               40.767272               -73.993929   \n",
       "4              72.0               40.767272               -73.993929   \n",
       "\n",
       "   end_station_id  end_station_latitude  end_station_longitude  bikeid  \\\n",
       "0           505.0             40.749013             -73.988484   31956   \n",
       "1          3255.0             40.750585             -73.994685   32536   \n",
       "2           525.0             40.755942             -74.002116   16069   \n",
       "3           447.0             40.763707             -73.985162   31781   \n",
       "4          3356.0             40.774667             -73.984706   30319   \n",
       "\n",
       "   usertype  birth_year  gender  cluster  \n",
       "0         1        1992       1      5.0  \n",
       "1         1        1969       1      5.0  \n",
       "2         1        1956       1      5.0  \n",
       "3         1        1974       1      5.0  \n",
       "4         1        1992       1      5.0  "
      ]
     },
     "execution_count": 95,
     "metadata": {},
     "output_type": "execute_result"
    }
   ],
   "source": [
    "df.head()"
   ]
  },
  {
   "cell_type": "code",
   "execution_count": 50,
   "id": "2c5391da",
   "metadata": {},
   "outputs": [
    {
     "name": "stdout",
     "output_type": "stream",
     "text": [
      "21\n",
      "[72, 422, 423, 447, 449, 457, 468, 469, 480, 499, 513, 530, 3158, 3159, 3160, 3161, 3162, 3163, 3164, 3165, 3166, 3167, 3169, 3171, 3172, 3173, 3175, 3176, 3177, 3178, 3226, 3356, 3360, 3697, 530]\n"
     ]
    }
   ],
   "source": [
    "## Make a list of 20 lists that will include the id's of the stations in each cluster\n",
    "cluster_stations = []\n",
    "for i in range(21):\n",
    "    cluster_stations.append(stations[stations['cluster'] == i]['start_station_id'].tolist())\n",
    "\n",
    "# make a list of 20 lists that will include the id's of the stations in each cluster\n",
    "print(len(cluster_stations))\n",
    "print(cluster_stations[11])"
   ]
  },
  {
   "cell_type": "code",
   "execution_count": 45,
   "id": "643b1c5f",
   "metadata": {},
   "outputs": [
    {
     "data": {
      "text/html": [
       "<div>\n",
       "<style scoped>\n",
       "    .dataframe tbody tr th:only-of-type {\n",
       "        vertical-align: middle;\n",
       "    }\n",
       "\n",
       "    .dataframe tbody tr th {\n",
       "        vertical-align: top;\n",
       "    }\n",
       "\n",
       "    .dataframe thead th {\n",
       "        text-align: right;\n",
       "    }\n",
       "</style>\n",
       "<table border=\"1\" class=\"dataframe\">\n",
       "  <thead>\n",
       "    <tr style=\"text-align: right;\">\n",
       "      <th></th>\n",
       "      <th>start_station_id</th>\n",
       "      <th>start_station_latitude</th>\n",
       "      <th>start_station_longitude</th>\n",
       "      <th>cluster</th>\n",
       "    </tr>\n",
       "  </thead>\n",
       "  <tbody>\n",
       "    <tr>\n",
       "      <th>0</th>\n",
       "      <td>72</td>\n",
       "      <td>40.767272</td>\n",
       "      <td>-73.993929</td>\n",
       "      <td>11</td>\n",
       "    </tr>\n",
       "    <tr>\n",
       "      <th>1324</th>\n",
       "      <td>79</td>\n",
       "      <td>40.719116</td>\n",
       "      <td>-74.006667</td>\n",
       "      <td>5</td>\n",
       "    </tr>\n",
       "    <tr>\n",
       "      <th>2430</th>\n",
       "      <td>82</td>\n",
       "      <td>40.711174</td>\n",
       "      <td>-74.000165</td>\n",
       "      <td>5</td>\n",
       "    </tr>\n",
       "    <tr>\n",
       "      <th>2866</th>\n",
       "      <td>83</td>\n",
       "      <td>40.683826</td>\n",
       "      <td>-73.976323</td>\n",
       "      <td>2</td>\n",
       "    </tr>\n",
       "    <tr>\n",
       "      <th>3551</th>\n",
       "      <td>119</td>\n",
       "      <td>40.696089</td>\n",
       "      <td>-73.978034</td>\n",
       "      <td>2</td>\n",
       "    </tr>\n",
       "  </tbody>\n",
       "</table>\n",
       "</div>"
      ],
      "text/plain": [
       "      start_station_id  start_station_latitude  start_station_longitude  \\\n",
       "0                   72               40.767272               -73.993929   \n",
       "1324                79               40.719116               -74.006667   \n",
       "2430                82               40.711174               -74.000165   \n",
       "2866                83               40.683826               -73.976323   \n",
       "3551               119               40.696089               -73.978034   \n",
       "\n",
       "      cluster  \n",
       "0          11  \n",
       "1324        5  \n",
       "2430        5  \n",
       "2866        2  \n",
       "3551        2  "
      ]
     },
     "execution_count": 45,
     "metadata": {},
     "output_type": "execute_result"
    }
   ],
   "source": [
    "stations.head()"
   ]
  },
  {
   "cell_type": "code",
   "execution_count": 47,
   "id": "e7de8662",
   "metadata": {},
   "outputs": [],
   "source": [
    "## Add 'clusterend' column to the dataframe\n",
    "\n",
    "# Map 'end_station_id' to 'cluster' using the cluster_stations information\n",
    "end_station_to_cluster = {station: cluster for cluster, stations in enumerate(cluster_stations) for station in stations}\n",
    "\n",
    "# Apply the mapping to 'end_station_id' to create the 'clusterend' column\n",
    "df2['clusterend'] = df2['end_station_id'].map(end_station_to_cluster)\n"
   ]
  },
  {
   "cell_type": "code",
   "execution_count": 48,
   "id": "661a13e1",
   "metadata": {},
   "outputs": [
    {
     "data": {
      "text/html": [
       "<div>\n",
       "<style scoped>\n",
       "    .dataframe tbody tr th:only-of-type {\n",
       "        vertical-align: middle;\n",
       "    }\n",
       "\n",
       "    .dataframe tbody tr th {\n",
       "        vertical-align: top;\n",
       "    }\n",
       "\n",
       "    .dataframe thead th {\n",
       "        text-align: right;\n",
       "    }\n",
       "</style>\n",
       "<table border=\"1\" class=\"dataframe\">\n",
       "  <thead>\n",
       "    <tr style=\"text-align: right;\">\n",
       "      <th></th>\n",
       "      <th>Unnamed: 0</th>\n",
       "      <th>tripduration</th>\n",
       "      <th>starttime</th>\n",
       "      <th>stoptime</th>\n",
       "      <th>start_station_id</th>\n",
       "      <th>start_station_latitude</th>\n",
       "      <th>start_station_longitude</th>\n",
       "      <th>end_station_id</th>\n",
       "      <th>end_station_latitude</th>\n",
       "      <th>end_station_longitude</th>\n",
       "      <th>bikeid</th>\n",
       "      <th>usertype</th>\n",
       "      <th>birth_year</th>\n",
       "      <th>gender</th>\n",
       "      <th>cluster</th>\n",
       "      <th>clusterend</th>\n",
       "    </tr>\n",
       "  </thead>\n",
       "  <tbody>\n",
       "    <tr>\n",
       "      <th>0</th>\n",
       "      <td>0</td>\n",
       "      <td>970</td>\n",
       "      <td>2018-01-01 13:50:57.434</td>\n",
       "      <td>2018-01-01 14:07:08.186</td>\n",
       "      <td>72</td>\n",
       "      <td>40.767272</td>\n",
       "      <td>-73.993929</td>\n",
       "      <td>505</td>\n",
       "      <td>40.749013</td>\n",
       "      <td>-73.988484</td>\n",
       "      <td>31956</td>\n",
       "      <td>1</td>\n",
       "      <td>1992</td>\n",
       "      <td>1</td>\n",
       "      <td>11.0</td>\n",
       "      <td>0.0</td>\n",
       "    </tr>\n",
       "    <tr>\n",
       "      <th>1</th>\n",
       "      <td>1</td>\n",
       "      <td>723</td>\n",
       "      <td>2018-01-01 15:33:30.182</td>\n",
       "      <td>2018-01-01 15:45:33.341</td>\n",
       "      <td>72</td>\n",
       "      <td>40.767272</td>\n",
       "      <td>-73.993929</td>\n",
       "      <td>3255</td>\n",
       "      <td>40.750585</td>\n",
       "      <td>-73.994685</td>\n",
       "      <td>32536</td>\n",
       "      <td>1</td>\n",
       "      <td>1969</td>\n",
       "      <td>1</td>\n",
       "      <td>11.0</td>\n",
       "      <td>0.0</td>\n",
       "    </tr>\n",
       "    <tr>\n",
       "      <th>2</th>\n",
       "      <td>2</td>\n",
       "      <td>496</td>\n",
       "      <td>2018-01-01 15:39:18.337</td>\n",
       "      <td>2018-01-01 15:47:35.172</td>\n",
       "      <td>72</td>\n",
       "      <td>40.767272</td>\n",
       "      <td>-73.993929</td>\n",
       "      <td>525</td>\n",
       "      <td>40.755942</td>\n",
       "      <td>-74.002116</td>\n",
       "      <td>16069</td>\n",
       "      <td>1</td>\n",
       "      <td>1956</td>\n",
       "      <td>1</td>\n",
       "      <td>11.0</td>\n",
       "      <td>0.0</td>\n",
       "    </tr>\n",
       "    <tr>\n",
       "      <th>3</th>\n",
       "      <td>3</td>\n",
       "      <td>306</td>\n",
       "      <td>2018-01-01 15:40:13.372</td>\n",
       "      <td>2018-01-01 15:45:20.191</td>\n",
       "      <td>72</td>\n",
       "      <td>40.767272</td>\n",
       "      <td>-73.993929</td>\n",
       "      <td>447</td>\n",
       "      <td>40.763707</td>\n",
       "      <td>-73.985162</td>\n",
       "      <td>31781</td>\n",
       "      <td>1</td>\n",
       "      <td>1974</td>\n",
       "      <td>1</td>\n",
       "      <td>11.0</td>\n",
       "      <td>11.0</td>\n",
       "    </tr>\n",
       "    <tr>\n",
       "      <th>4</th>\n",
       "      <td>4</td>\n",
       "      <td>306</td>\n",
       "      <td>2018-01-01 18:14:51.568</td>\n",
       "      <td>2018-01-01 18:19:57.642</td>\n",
       "      <td>72</td>\n",
       "      <td>40.767272</td>\n",
       "      <td>-73.993929</td>\n",
       "      <td>3356</td>\n",
       "      <td>40.774667</td>\n",
       "      <td>-73.984706</td>\n",
       "      <td>30319</td>\n",
       "      <td>1</td>\n",
       "      <td>1992</td>\n",
       "      <td>1</td>\n",
       "      <td>11.0</td>\n",
       "      <td>11.0</td>\n",
       "    </tr>\n",
       "  </tbody>\n",
       "</table>\n",
       "</div>"
      ],
      "text/plain": [
       "   Unnamed: 0  tripduration               starttime                stoptime  \\\n",
       "0           0           970 2018-01-01 13:50:57.434 2018-01-01 14:07:08.186   \n",
       "1           1           723 2018-01-01 15:33:30.182 2018-01-01 15:45:33.341   \n",
       "2           2           496 2018-01-01 15:39:18.337 2018-01-01 15:47:35.172   \n",
       "3           3           306 2018-01-01 15:40:13.372 2018-01-01 15:45:20.191   \n",
       "4           4           306 2018-01-01 18:14:51.568 2018-01-01 18:19:57.642   \n",
       "\n",
       "   start_station_id  start_station_latitude  start_station_longitude  \\\n",
       "0                72               40.767272               -73.993929   \n",
       "1                72               40.767272               -73.993929   \n",
       "2                72               40.767272               -73.993929   \n",
       "3                72               40.767272               -73.993929   \n",
       "4                72               40.767272               -73.993929   \n",
       "\n",
       "   end_station_id  end_station_latitude  end_station_longitude  bikeid  \\\n",
       "0             505             40.749013             -73.988484   31956   \n",
       "1            3255             40.750585             -73.994685   32536   \n",
       "2             525             40.755942             -74.002116   16069   \n",
       "3             447             40.763707             -73.985162   31781   \n",
       "4            3356             40.774667             -73.984706   30319   \n",
       "\n",
       "   usertype  birth_year  gender  cluster  clusterend  \n",
       "0         1        1992       1     11.0         0.0  \n",
       "1         1        1969       1     11.0         0.0  \n",
       "2         1        1956       1     11.0         0.0  \n",
       "3         1        1974       1     11.0        11.0  \n",
       "4         1        1992       1     11.0        11.0  "
      ]
     },
     "execution_count": 48,
     "metadata": {},
     "output_type": "execute_result"
    }
   ],
   "source": [
    "df2.head()"
   ]
  },
  {
   "cell_type": "code",
   "execution_count": 62,
   "id": "912a8cab",
   "metadata": {},
   "outputs": [
    {
     "data": {
      "text/plain": [
       "(17591315, 16)"
      ]
     },
     "execution_count": 62,
     "metadata": {},
     "output_type": "execute_result"
    }
   ],
   "source": [
    "df2.shape"
   ]
  },
  {
   "cell_type": "markdown",
   "id": "8e49d9b7",
   "metadata": {},
   "source": [
    "## Create a new dataframe for the cluster with the highest demand\n"
   ]
  },
  {
   "cell_type": "code",
   "execution_count": 57,
   "id": "b4bb1ab1",
   "metadata": {},
   "outputs": [],
   "source": [
    "# Calculate total demand (arrivals) for each cluster\n",
    "cluster_demand = df2.groupby('cluster').size()\n",
    "\n",
    "# Find the cluster with the highest demand\n",
    "cluster_highest_demand = cluster_demand.idxmax()\n",
    "\n",
    "# Create a new DataFrame with data points only from the cluster with the highest demand\n",
    "df_onecluster = df2[df2['cluster'] == cluster_highest_demand]\n",
    "#This code groups the data by the 'cluster' column and counts the occurrences of each "
   ]
  },
  {
   "cell_type": "code",
   "execution_count": 58,
   "id": "b57c595a",
   "metadata": {},
   "outputs": [
    {
     "data": {
      "text/html": [
       "<div>\n",
       "<style scoped>\n",
       "    .dataframe tbody tr th:only-of-type {\n",
       "        vertical-align: middle;\n",
       "    }\n",
       "\n",
       "    .dataframe tbody tr th {\n",
       "        vertical-align: top;\n",
       "    }\n",
       "\n",
       "    .dataframe thead th {\n",
       "        text-align: right;\n",
       "    }\n",
       "</style>\n",
       "<table border=\"1\" class=\"dataframe\">\n",
       "  <thead>\n",
       "    <tr style=\"text-align: right;\">\n",
       "      <th></th>\n",
       "      <th>Unnamed: 0</th>\n",
       "      <th>tripduration</th>\n",
       "      <th>starttime</th>\n",
       "      <th>stoptime</th>\n",
       "      <th>start_station_id</th>\n",
       "      <th>start_station_latitude</th>\n",
       "      <th>start_station_longitude</th>\n",
       "      <th>end_station_id</th>\n",
       "      <th>end_station_latitude</th>\n",
       "      <th>end_station_longitude</th>\n",
       "      <th>bikeid</th>\n",
       "      <th>usertype</th>\n",
       "      <th>birth_year</th>\n",
       "      <th>gender</th>\n",
       "      <th>cluster</th>\n",
       "      <th>clusterend</th>\n",
       "    </tr>\n",
       "  </thead>\n",
       "  <tbody>\n",
       "    <tr>\n",
       "      <th>4183</th>\n",
       "      <td>4183</td>\n",
       "      <td>1176</td>\n",
       "      <td>2018-01-01 01:11:58.481</td>\n",
       "      <td>2018-01-01 01:31:34.729</td>\n",
       "      <td>127</td>\n",
       "      <td>40.731724</td>\n",
       "      <td>-74.006744</td>\n",
       "      <td>382</td>\n",
       "      <td>40.734927</td>\n",
       "      <td>-73.992005</td>\n",
       "      <td>25514</td>\n",
       "      <td>1</td>\n",
       "      <td>1979</td>\n",
       "      <td>2</td>\n",
       "      <td>20.0</td>\n",
       "      <td>20.0</td>\n",
       "    </tr>\n",
       "    <tr>\n",
       "      <th>4184</th>\n",
       "      <td>4184</td>\n",
       "      <td>1824</td>\n",
       "      <td>2018-01-01 01:12:26.474</td>\n",
       "      <td>2018-01-01 01:42:50.474</td>\n",
       "      <td>127</td>\n",
       "      <td>40.731724</td>\n",
       "      <td>-74.006744</td>\n",
       "      <td>530</td>\n",
       "      <td>40.771522</td>\n",
       "      <td>-73.990541</td>\n",
       "      <td>30370</td>\n",
       "      <td>1</td>\n",
       "      <td>1969</td>\n",
       "      <td>1</td>\n",
       "      <td>20.0</td>\n",
       "      <td>11.0</td>\n",
       "    </tr>\n",
       "    <tr>\n",
       "      <th>4185</th>\n",
       "      <td>4185</td>\n",
       "      <td>613</td>\n",
       "      <td>2018-01-01 09:55:37.097</td>\n",
       "      <td>2018-01-01 10:05:50.697</td>\n",
       "      <td>127</td>\n",
       "      <td>40.731724</td>\n",
       "      <td>-74.006744</td>\n",
       "      <td>3255</td>\n",
       "      <td>40.750585</td>\n",
       "      <td>-73.994685</td>\n",
       "      <td>25036</td>\n",
       "      <td>1</td>\n",
       "      <td>1966</td>\n",
       "      <td>1</td>\n",
       "      <td>20.0</td>\n",
       "      <td>0.0</td>\n",
       "    </tr>\n",
       "    <tr>\n",
       "      <th>4186</th>\n",
       "      <td>4186</td>\n",
       "      <td>463</td>\n",
       "      <td>2018-01-01 10:27:30.491</td>\n",
       "      <td>2018-01-01 10:35:13.638</td>\n",
       "      <td>127</td>\n",
       "      <td>40.731724</td>\n",
       "      <td>-74.006744</td>\n",
       "      <td>229</td>\n",
       "      <td>40.727434</td>\n",
       "      <td>-73.993790</td>\n",
       "      <td>33019</td>\n",
       "      <td>1</td>\n",
       "      <td>1992</td>\n",
       "      <td>1</td>\n",
       "      <td>20.0</td>\n",
       "      <td>10.0</td>\n",
       "    </tr>\n",
       "    <tr>\n",
       "      <th>4187</th>\n",
       "      <td>4187</td>\n",
       "      <td>454</td>\n",
       "      <td>2018-01-01 10:27:52.262</td>\n",
       "      <td>2018-01-01 10:35:26.884</td>\n",
       "      <td>127</td>\n",
       "      <td>40.731724</td>\n",
       "      <td>-74.006744</td>\n",
       "      <td>229</td>\n",
       "      <td>40.727434</td>\n",
       "      <td>-73.993790</td>\n",
       "      <td>27221</td>\n",
       "      <td>1</td>\n",
       "      <td>1991</td>\n",
       "      <td>2</td>\n",
       "      <td>20.0</td>\n",
       "      <td>10.0</td>\n",
       "    </tr>\n",
       "  </tbody>\n",
       "</table>\n",
       "</div>"
      ],
      "text/plain": [
       "      Unnamed: 0  tripduration               starttime  \\\n",
       "4183        4183          1176 2018-01-01 01:11:58.481   \n",
       "4184        4184          1824 2018-01-01 01:12:26.474   \n",
       "4185        4185           613 2018-01-01 09:55:37.097   \n",
       "4186        4186           463 2018-01-01 10:27:30.491   \n",
       "4187        4187           454 2018-01-01 10:27:52.262   \n",
       "\n",
       "                    stoptime  start_station_id  start_station_latitude  \\\n",
       "4183 2018-01-01 01:31:34.729               127               40.731724   \n",
       "4184 2018-01-01 01:42:50.474               127               40.731724   \n",
       "4185 2018-01-01 10:05:50.697               127               40.731724   \n",
       "4186 2018-01-01 10:35:13.638               127               40.731724   \n",
       "4187 2018-01-01 10:35:26.884               127               40.731724   \n",
       "\n",
       "      start_station_longitude  end_station_id  end_station_latitude  \\\n",
       "4183               -74.006744             382             40.734927   \n",
       "4184               -74.006744             530             40.771522   \n",
       "4185               -74.006744            3255             40.750585   \n",
       "4186               -74.006744             229             40.727434   \n",
       "4187               -74.006744             229             40.727434   \n",
       "\n",
       "      end_station_longitude  bikeid  usertype  birth_year  gender  cluster  \\\n",
       "4183             -73.992005   25514         1        1979       2     20.0   \n",
       "4184             -73.990541   30370         1        1969       1     20.0   \n",
       "4185             -73.994685   25036         1        1966       1     20.0   \n",
       "4186             -73.993790   33019         1        1992       1     20.0   \n",
       "4187             -73.993790   27221         1        1991       2     20.0   \n",
       "\n",
       "      clusterend  \n",
       "4183        20.0  \n",
       "4184        11.0  \n",
       "4185         0.0  \n",
       "4186        10.0  \n",
       "4187        10.0  "
      ]
     },
     "execution_count": 58,
     "metadata": {},
     "output_type": "execute_result"
    }
   ],
   "source": [
    "df_onecluster.head() "
   ]
  },
  {
   "cell_type": "code",
   "execution_count": 59,
   "id": "9a2ddd33",
   "metadata": {},
   "outputs": [
    {
     "data": {
      "text/plain": [
       "array([20.])"
      ]
     },
     "execution_count": 59,
     "metadata": {},
     "output_type": "execute_result"
    }
   ],
   "source": [
    "df_onecluster['cluster'].unique()"
   ]
  },
  {
   "cell_type": "code",
   "execution_count": 61,
   "id": "1fc06f4e",
   "metadata": {},
   "outputs": [
    {
     "name": "stdout",
     "output_type": "stream",
     "text": [
      "2335291\n"
     ]
    }
   ],
   "source": [
    "#print the total rows of data_from_highest_demand_cluster\n",
    "print(df_onecluster.shape[0])"
   ]
  },
  {
   "cell_type": "code",
   "execution_count": 63,
   "id": "f533259e",
   "metadata": {},
   "outputs": [
    {
     "name": "stdout",
     "output_type": "stream",
     "text": [
      "0.13275249746821088\n"
     ]
    }
   ],
   "source": [
    "print(2335291/17591315)"
   ]
  },
  {
   "cell_type": "code",
   "execution_count": null,
   "id": "31f835ea",
   "metadata": {},
   "outputs": [],
   "source": []
  }
 ],
 "metadata": {
  "kernelspec": {
   "display_name": "Python 3 (ipykernel)",
   "language": "python",
   "name": "python3"
  },
  "language_info": {
   "codemirror_mode": {
    "name": "ipython",
    "version": 3
   },
   "file_extension": ".py",
   "mimetype": "text/x-python",
   "name": "python",
   "nbconvert_exporter": "python",
   "pygments_lexer": "ipython3",
   "version": "3.10.10"
  }
 },
 "nbformat": 4,
 "nbformat_minor": 5
}
